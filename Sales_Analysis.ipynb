{
 "cells": [
  {
   "cell_type": "markdown",
   "metadata": {},
   "source": [
    "# Sales Analysis\n",
    "\n",
    "## Import necessary libraries"
   ]
  },
  {
   "cell_type": "code",
   "execution_count": 17,
   "metadata": {},
   "outputs": [],
   "source": [
    "import pandas as pd\n",
    "import numpy as np\n",
    "import matplotlib.pyplot as plt\n",
    "import seaborn as sns\n",
    "import calendar\n",
    "from datetime import datetime"
   ]
  },
  {
   "cell_type": "markdown",
   "metadata": {},
   "source": [
    "## Task 1: Merge the 12 months of sales data into a single file"
   ]
  },
  {
   "cell_type": "code",
   "execution_count": 18,
   "metadata": {},
   "outputs": [],
   "source": [
    "dataframes = []\n",
    "for month in range(1, 13):\n",
    "    month_name = calendar.month_name[month]\n",
    "    dataframe = pd.read_csv(f\".\\\\Month_Sales\\\\Sales_{month_name}_2019.csv\")\n",
    "    dataframes.append(dataframe)\n",
    "sales_df = pd.concat(dataframes)\n",
    "\n",
    "sales_df.to_csv(\".\\\\Full_Sales_Data\\sales_data.csv\", index=False)\n"
   ]
  },
  {
   "cell_type": "markdown",
   "metadata": {},
   "source": [
    "## Task 2: Read the new merged sales data\n"
   ]
  },
  {
   "cell_type": "code",
   "execution_count": 19,
   "metadata": {},
   "outputs": [
    {
     "data": {
      "text/html": [
       "<div>\n",
       "<style scoped>\n",
       "    .dataframe tbody tr th:only-of-type {\n",
       "        vertical-align: middle;\n",
       "    }\n",
       "\n",
       "    .dataframe tbody tr th {\n",
       "        vertical-align: top;\n",
       "    }\n",
       "\n",
       "    .dataframe thead th {\n",
       "        text-align: right;\n",
       "    }\n",
       "</style>\n",
       "<table border=\"1\" class=\"dataframe\">\n",
       "  <thead>\n",
       "    <tr style=\"text-align: right;\">\n",
       "      <th></th>\n",
       "      <th>Order ID</th>\n",
       "      <th>Product</th>\n",
       "      <th>Quantity Ordered</th>\n",
       "      <th>Price Each</th>\n",
       "      <th>Order Date</th>\n",
       "      <th>Purchase Address</th>\n",
       "    </tr>\n",
       "  </thead>\n",
       "  <tbody>\n",
       "    <tr>\n",
       "      <th>173708</th>\n",
       "      <td>311569</td>\n",
       "      <td>Bose SoundSport Headphones</td>\n",
       "      <td>1</td>\n",
       "      <td>99.99</td>\n",
       "      <td>12/19/19 19:57</td>\n",
       "      <td>411 12th St, Portland, OR 97035</td>\n",
       "    </tr>\n",
       "    <tr>\n",
       "      <th>173709</th>\n",
       "      <td>311570</td>\n",
       "      <td>AA Batteries (4-pack)</td>\n",
       "      <td>1</td>\n",
       "      <td>3.84</td>\n",
       "      <td>12/21/19 10:43</td>\n",
       "      <td>598 14th St, San Francisco, CA 94016</td>\n",
       "    </tr>\n",
       "    <tr>\n",
       "      <th>173710</th>\n",
       "      <td>311571</td>\n",
       "      <td>Bose SoundSport Headphones</td>\n",
       "      <td>1</td>\n",
       "      <td>99.99</td>\n",
       "      <td>12/31/19 18:20</td>\n",
       "      <td>974 Church St, Portland, OR 97035</td>\n",
       "    </tr>\n",
       "    <tr>\n",
       "      <th>173711</th>\n",
       "      <td>311572</td>\n",
       "      <td>Lightning Charging Cable</td>\n",
       "      <td>1</td>\n",
       "      <td>14.95</td>\n",
       "      <td>12/30/19 06:57</td>\n",
       "      <td>326 2nd St, Portland, ME 04101</td>\n",
       "    </tr>\n",
       "    <tr>\n",
       "      <th>173712</th>\n",
       "      <td>311573</td>\n",
       "      <td>Wired Headphones</td>\n",
       "      <td>1</td>\n",
       "      <td>11.99</td>\n",
       "      <td>12/09/19 21:58</td>\n",
       "      <td>643 2nd St, New York City, NY 10001</td>\n",
       "    </tr>\n",
       "  </tbody>\n",
       "</table>\n",
       "</div>"
      ],
      "text/plain": [
       "       Order ID                     Product Quantity Ordered Price Each  \\\n",
       "173708   311569  Bose SoundSport Headphones                1      99.99   \n",
       "173709   311570       AA Batteries (4-pack)                1       3.84   \n",
       "173710   311571  Bose SoundSport Headphones                1      99.99   \n",
       "173711   311572    Lightning Charging Cable                1      14.95   \n",
       "173712   311573            Wired Headphones                1      11.99   \n",
       "\n",
       "            Order Date                      Purchase Address  \n",
       "173708  12/19/19 19:57       411 12th St, Portland, OR 97035  \n",
       "173709  12/21/19 10:43  598 14th St, San Francisco, CA 94016  \n",
       "173710  12/31/19 18:20     974 Church St, Portland, OR 97035  \n",
       "173711  12/30/19 06:57        326 2nd St, Portland, ME 04101  \n",
       "173712  12/09/19 21:58   643 2nd St, New York City, NY 10001  "
      ]
     },
     "execution_count": 19,
     "metadata": {},
     "output_type": "execute_result"
    }
   ],
   "source": [
    "sales = pd.read_csv('.\\\\Full_Sales_Data\\\\sales_data.csv')\n",
    "sales.tail()"
   ]
  },
  {
   "cell_type": "markdown",
   "metadata": {},
   "source": [
    "## Task 3: Clean up data"
   ]
  },
  {
   "cell_type": "code",
   "execution_count": 20,
   "metadata": {},
   "outputs": [],
   "source": [
    "# Drop rows of NAN\n",
    "sales.dropna(axis=0, how='all', inplace=True)\n",
    "\n",
    "# Drop rows which contain values same as column names\n",
    "sales = sales[(sales != sales.columns).all(axis=1)]\n"
   ]
  },
  {
   "cell_type": "markdown",
   "metadata": {},
   "source": [
    "## Add Month Column to the Dataframe"
   ]
  },
  {
   "cell_type": "code",
   "execution_count": 21,
   "metadata": {},
   "outputs": [
    {
     "data": {
      "text/plain": [
       "0         Jan\n",
       "1         Jan\n",
       "2         Jan\n",
       "3         Jan\n",
       "4         Jan\n",
       "         ... \n",
       "173708    Dec\n",
       "173709    Dec\n",
       "173710    Dec\n",
       "173711    Dec\n",
       "173712    Dec\n",
       "Name: Month, Length: 172872, dtype: object"
      ]
     },
     "execution_count": 21,
     "metadata": {},
     "output_type": "execute_result"
    }
   ],
   "source": [
    "sales['Month'] = sales['Order Date'].str[0:2]\n",
    "\n",
    "# # Remove leading zeros\n",
    "sales['Month'] = sales['Month'].str.lstrip('0')\n",
    "\n",
    "# Convert from string to integer\n",
    "sales['Month'] = sales['Month'].astype('int32')\n",
    "\n",
    "# Replace month number with month name\n",
    "sales['Month'] = sales['Month'].apply(lambda x: calendar.month_abbr[x])\n",
    "sales['Month']"
   ]
  },
  {
   "cell_type": "markdown",
   "metadata": {},
   "source": [
    "## Save Clean Data"
   ]
  },
  {
   "cell_type": "code",
   "execution_count": 22,
   "metadata": {},
   "outputs": [],
   "source": [
    "sales.to_csv(\".\\\\Full_Sales_Data\\\\clean_data.csv\", index=False)"
   ]
  },
  {
   "cell_type": "markdown",
   "metadata": {},
   "source": [
    "## Read clean data"
   ]
  },
  {
   "cell_type": "code",
   "execution_count": 23,
   "metadata": {},
   "outputs": [
    {
     "data": {
      "text/html": [
       "<div>\n",
       "<style scoped>\n",
       "    .dataframe tbody tr th:only-of-type {\n",
       "        vertical-align: middle;\n",
       "    }\n",
       "\n",
       "    .dataframe tbody tr th {\n",
       "        vertical-align: top;\n",
       "    }\n",
       "\n",
       "    .dataframe thead th {\n",
       "        text-align: right;\n",
       "    }\n",
       "</style>\n",
       "<table border=\"1\" class=\"dataframe\">\n",
       "  <thead>\n",
       "    <tr style=\"text-align: right;\">\n",
       "      <th></th>\n",
       "      <th>Order ID</th>\n",
       "      <th>Product</th>\n",
       "      <th>Quantity Ordered</th>\n",
       "      <th>Price Each</th>\n",
       "      <th>Order Date</th>\n",
       "      <th>Purchase Address</th>\n",
       "      <th>Month</th>\n",
       "    </tr>\n",
       "  </thead>\n",
       "  <tbody>\n",
       "    <tr>\n",
       "      <th>0</th>\n",
       "      <td>141234</td>\n",
       "      <td>Lightning Charging Cable</td>\n",
       "      <td>1</td>\n",
       "      <td>14.95</td>\n",
       "      <td>01/19/19 10:13</td>\n",
       "      <td>231 6th St, Atlanta, GA 30301</td>\n",
       "      <td>Jan</td>\n",
       "    </tr>\n",
       "    <tr>\n",
       "      <th>1</th>\n",
       "      <td>141235</td>\n",
       "      <td>USB-C Charging Cable</td>\n",
       "      <td>1</td>\n",
       "      <td>11.95</td>\n",
       "      <td>01/15/19 14:10</td>\n",
       "      <td>148 Meadow St, Boston, MA 02215</td>\n",
       "      <td>Jan</td>\n",
       "    </tr>\n",
       "    <tr>\n",
       "      <th>2</th>\n",
       "      <td>141236</td>\n",
       "      <td>Lightning Charging Cable</td>\n",
       "      <td>1</td>\n",
       "      <td>14.95</td>\n",
       "      <td>01/20/19 11:21</td>\n",
       "      <td>850 Walnut St, San Francisco, CA 94016</td>\n",
       "      <td>Jan</td>\n",
       "    </tr>\n",
       "    <tr>\n",
       "      <th>3</th>\n",
       "      <td>141237</td>\n",
       "      <td>USB-C Charging Cable</td>\n",
       "      <td>2</td>\n",
       "      <td>11.95</td>\n",
       "      <td>01/15/19 00:11</td>\n",
       "      <td>479 11th St, San Francisco, CA 94016</td>\n",
       "      <td>Jan</td>\n",
       "    </tr>\n",
       "    <tr>\n",
       "      <th>4</th>\n",
       "      <td>141238</td>\n",
       "      <td>Lightning Charging Cable</td>\n",
       "      <td>1</td>\n",
       "      <td>14.95</td>\n",
       "      <td>01/06/19 10:05</td>\n",
       "      <td>654 5th St, Dallas, TX 75001</td>\n",
       "      <td>Jan</td>\n",
       "    </tr>\n",
       "    <tr>\n",
       "      <th>5</th>\n",
       "      <td>141239</td>\n",
       "      <td>20in Monitor</td>\n",
       "      <td>1</td>\n",
       "      <td>109.99</td>\n",
       "      <td>01/25/19 09:57</td>\n",
       "      <td>826 4th St, New York City, NY 10001</td>\n",
       "      <td>Jan</td>\n",
       "    </tr>\n",
       "    <tr>\n",
       "      <th>6</th>\n",
       "      <td>141240</td>\n",
       "      <td>AA Batteries (4-pack)</td>\n",
       "      <td>1</td>\n",
       "      <td>3.84</td>\n",
       "      <td>01/12/19 20:39</td>\n",
       "      <td>343 Pine St, Dallas, TX 75001</td>\n",
       "      <td>Jan</td>\n",
       "    </tr>\n",
       "    <tr>\n",
       "      <th>7</th>\n",
       "      <td>141241</td>\n",
       "      <td>Lightning Charging Cable</td>\n",
       "      <td>1</td>\n",
       "      <td>14.95</td>\n",
       "      <td>01/31/19 15:19</td>\n",
       "      <td>556 Highland St, Los Angeles, CA 90001</td>\n",
       "      <td>Jan</td>\n",
       "    </tr>\n",
       "    <tr>\n",
       "      <th>8</th>\n",
       "      <td>141242</td>\n",
       "      <td>AAA Batteries (4-pack)</td>\n",
       "      <td>1</td>\n",
       "      <td>2.99</td>\n",
       "      <td>01/04/19 01:19</td>\n",
       "      <td>892 8th St, Atlanta, GA 30301</td>\n",
       "      <td>Jan</td>\n",
       "    </tr>\n",
       "    <tr>\n",
       "      <th>9</th>\n",
       "      <td>141243</td>\n",
       "      <td>ThinkPad Laptop</td>\n",
       "      <td>1</td>\n",
       "      <td>999.99</td>\n",
       "      <td>01/21/19 11:23</td>\n",
       "      <td>232 Hickory St, Boston, MA 02215</td>\n",
       "      <td>Jan</td>\n",
       "    </tr>\n",
       "  </tbody>\n",
       "</table>\n",
       "</div>"
      ],
      "text/plain": [
       "   Order ID                   Product  Quantity Ordered  Price Each  \\\n",
       "0    141234  Lightning Charging Cable                 1       14.95   \n",
       "1    141235      USB-C Charging Cable                 1       11.95   \n",
       "2    141236  Lightning Charging Cable                 1       14.95   \n",
       "3    141237      USB-C Charging Cable                 2       11.95   \n",
       "4    141238  Lightning Charging Cable                 1       14.95   \n",
       "5    141239              20in Monitor                 1      109.99   \n",
       "6    141240     AA Batteries (4-pack)                 1        3.84   \n",
       "7    141241  Lightning Charging Cable                 1       14.95   \n",
       "8    141242    AAA Batteries (4-pack)                 1        2.99   \n",
       "9    141243           ThinkPad Laptop                 1      999.99   \n",
       "\n",
       "       Order Date                        Purchase Address Month  \n",
       "0  01/19/19 10:13           231 6th St, Atlanta, GA 30301   Jan  \n",
       "1  01/15/19 14:10         148 Meadow St, Boston, MA 02215   Jan  \n",
       "2  01/20/19 11:21  850 Walnut St, San Francisco, CA 94016   Jan  \n",
       "3  01/15/19 00:11    479 11th St, San Francisco, CA 94016   Jan  \n",
       "4  01/06/19 10:05            654 5th St, Dallas, TX 75001   Jan  \n",
       "5  01/25/19 09:57     826 4th St, New York City, NY 10001   Jan  \n",
       "6  01/12/19 20:39           343 Pine St, Dallas, TX 75001   Jan  \n",
       "7  01/31/19 15:19  556 Highland St, Los Angeles, CA 90001   Jan  \n",
       "8  01/04/19 01:19           892 8th St, Atlanta, GA 30301   Jan  \n",
       "9  01/21/19 11:23        232 Hickory St, Boston, MA 02215   Jan  "
      ]
     },
     "execution_count": 23,
     "metadata": {},
     "output_type": "execute_result"
    }
   ],
   "source": [
    "df = pd.read_csv(\".\\\\Full_Sales_Data\\\\clean_data.csv\")\n",
    "df.head(10)"
   ]
  },
  {
   "cell_type": "markdown",
   "metadata": {},
   "source": [
    "## Add Sales Column to Dataframe"
   ]
  },
  {
   "cell_type": "code",
   "execution_count": 24,
   "metadata": {},
   "outputs": [
    {
     "data": {
      "text/html": [
       "<div>\n",
       "<style scoped>\n",
       "    .dataframe tbody tr th:only-of-type {\n",
       "        vertical-align: middle;\n",
       "    }\n",
       "\n",
       "    .dataframe tbody tr th {\n",
       "        vertical-align: top;\n",
       "    }\n",
       "\n",
       "    .dataframe thead th {\n",
       "        text-align: right;\n",
       "    }\n",
       "</style>\n",
       "<table border=\"1\" class=\"dataframe\">\n",
       "  <thead>\n",
       "    <tr style=\"text-align: right;\">\n",
       "      <th></th>\n",
       "      <th>Order ID</th>\n",
       "      <th>Product</th>\n",
       "      <th>Quantity Ordered</th>\n",
       "      <th>Price Each</th>\n",
       "      <th>Order Date</th>\n",
       "      <th>Purchase Address</th>\n",
       "      <th>Month</th>\n",
       "      <th>Sales</th>\n",
       "    </tr>\n",
       "  </thead>\n",
       "  <tbody>\n",
       "    <tr>\n",
       "      <th>0</th>\n",
       "      <td>141234</td>\n",
       "      <td>Lightning Charging Cable</td>\n",
       "      <td>1</td>\n",
       "      <td>14.95</td>\n",
       "      <td>01/19/19 10:13</td>\n",
       "      <td>231 6th St, Atlanta, GA 30301</td>\n",
       "      <td>Jan</td>\n",
       "      <td>14.95</td>\n",
       "    </tr>\n",
       "    <tr>\n",
       "      <th>1</th>\n",
       "      <td>141235</td>\n",
       "      <td>USB-C Charging Cable</td>\n",
       "      <td>1</td>\n",
       "      <td>11.95</td>\n",
       "      <td>01/15/19 14:10</td>\n",
       "      <td>148 Meadow St, Boston, MA 02215</td>\n",
       "      <td>Jan</td>\n",
       "      <td>11.95</td>\n",
       "    </tr>\n",
       "    <tr>\n",
       "      <th>2</th>\n",
       "      <td>141236</td>\n",
       "      <td>Lightning Charging Cable</td>\n",
       "      <td>1</td>\n",
       "      <td>14.95</td>\n",
       "      <td>01/20/19 11:21</td>\n",
       "      <td>850 Walnut St, San Francisco, CA 94016</td>\n",
       "      <td>Jan</td>\n",
       "      <td>14.95</td>\n",
       "    </tr>\n",
       "    <tr>\n",
       "      <th>3</th>\n",
       "      <td>141237</td>\n",
       "      <td>USB-C Charging Cable</td>\n",
       "      <td>2</td>\n",
       "      <td>11.95</td>\n",
       "      <td>01/15/19 00:11</td>\n",
       "      <td>479 11th St, San Francisco, CA 94016</td>\n",
       "      <td>Jan</td>\n",
       "      <td>23.90</td>\n",
       "    </tr>\n",
       "    <tr>\n",
       "      <th>4</th>\n",
       "      <td>141238</td>\n",
       "      <td>Lightning Charging Cable</td>\n",
       "      <td>1</td>\n",
       "      <td>14.95</td>\n",
       "      <td>01/06/19 10:05</td>\n",
       "      <td>654 5th St, Dallas, TX 75001</td>\n",
       "      <td>Jan</td>\n",
       "      <td>14.95</td>\n",
       "    </tr>\n",
       "    <tr>\n",
       "      <th>...</th>\n",
       "      <td>...</td>\n",
       "      <td>...</td>\n",
       "      <td>...</td>\n",
       "      <td>...</td>\n",
       "      <td>...</td>\n",
       "      <td>...</td>\n",
       "      <td>...</td>\n",
       "      <td>...</td>\n",
       "    </tr>\n",
       "    <tr>\n",
       "      <th>172867</th>\n",
       "      <td>311569</td>\n",
       "      <td>Bose SoundSport Headphones</td>\n",
       "      <td>1</td>\n",
       "      <td>99.99</td>\n",
       "      <td>12/19/19 19:57</td>\n",
       "      <td>411 12th St, Portland, OR 97035</td>\n",
       "      <td>Dec</td>\n",
       "      <td>99.99</td>\n",
       "    </tr>\n",
       "    <tr>\n",
       "      <th>172868</th>\n",
       "      <td>311570</td>\n",
       "      <td>AA Batteries (4-pack)</td>\n",
       "      <td>1</td>\n",
       "      <td>3.84</td>\n",
       "      <td>12/21/19 10:43</td>\n",
       "      <td>598 14th St, San Francisco, CA 94016</td>\n",
       "      <td>Dec</td>\n",
       "      <td>3.84</td>\n",
       "    </tr>\n",
       "    <tr>\n",
       "      <th>172869</th>\n",
       "      <td>311571</td>\n",
       "      <td>Bose SoundSport Headphones</td>\n",
       "      <td>1</td>\n",
       "      <td>99.99</td>\n",
       "      <td>12/31/19 18:20</td>\n",
       "      <td>974 Church St, Portland, OR 97035</td>\n",
       "      <td>Dec</td>\n",
       "      <td>99.99</td>\n",
       "    </tr>\n",
       "    <tr>\n",
       "      <th>172870</th>\n",
       "      <td>311572</td>\n",
       "      <td>Lightning Charging Cable</td>\n",
       "      <td>1</td>\n",
       "      <td>14.95</td>\n",
       "      <td>12/30/19 06:57</td>\n",
       "      <td>326 2nd St, Portland, ME 04101</td>\n",
       "      <td>Dec</td>\n",
       "      <td>14.95</td>\n",
       "    </tr>\n",
       "    <tr>\n",
       "      <th>172871</th>\n",
       "      <td>311573</td>\n",
       "      <td>Wired Headphones</td>\n",
       "      <td>1</td>\n",
       "      <td>11.99</td>\n",
       "      <td>12/09/19 21:58</td>\n",
       "      <td>643 2nd St, New York City, NY 10001</td>\n",
       "      <td>Dec</td>\n",
       "      <td>11.99</td>\n",
       "    </tr>\n",
       "  </tbody>\n",
       "</table>\n",
       "<p>172872 rows × 8 columns</p>\n",
       "</div>"
      ],
      "text/plain": [
       "        Order ID                     Product  Quantity Ordered  Price Each  \\\n",
       "0         141234    Lightning Charging Cable                 1       14.95   \n",
       "1         141235        USB-C Charging Cable                 1       11.95   \n",
       "2         141236    Lightning Charging Cable                 1       14.95   \n",
       "3         141237        USB-C Charging Cable                 2       11.95   \n",
       "4         141238    Lightning Charging Cable                 1       14.95   \n",
       "...          ...                         ...               ...         ...   \n",
       "172867    311569  Bose SoundSport Headphones                 1       99.99   \n",
       "172868    311570       AA Batteries (4-pack)                 1        3.84   \n",
       "172869    311571  Bose SoundSport Headphones                 1       99.99   \n",
       "172870    311572    Lightning Charging Cable                 1       14.95   \n",
       "172871    311573            Wired Headphones                 1       11.99   \n",
       "\n",
       "            Order Date                        Purchase Address Month  Sales  \n",
       "0       01/19/19 10:13           231 6th St, Atlanta, GA 30301   Jan  14.95  \n",
       "1       01/15/19 14:10         148 Meadow St, Boston, MA 02215   Jan  11.95  \n",
       "2       01/20/19 11:21  850 Walnut St, San Francisco, CA 94016   Jan  14.95  \n",
       "3       01/15/19 00:11    479 11th St, San Francisco, CA 94016   Jan  23.90  \n",
       "4       01/06/19 10:05            654 5th St, Dallas, TX 75001   Jan  14.95  \n",
       "...                ...                                     ...   ...    ...  \n",
       "172867  12/19/19 19:57         411 12th St, Portland, OR 97035   Dec  99.99  \n",
       "172868  12/21/19 10:43    598 14th St, San Francisco, CA 94016   Dec   3.84  \n",
       "172869  12/31/19 18:20       974 Church St, Portland, OR 97035   Dec  99.99  \n",
       "172870  12/30/19 06:57          326 2nd St, Portland, ME 04101   Dec  14.95  \n",
       "172871  12/09/19 21:58     643 2nd St, New York City, NY 10001   Dec  11.99  \n",
       "\n",
       "[172872 rows x 8 columns]"
      ]
     },
     "execution_count": 24,
     "metadata": {},
     "output_type": "execute_result"
    }
   ],
   "source": [
    "df['Sales'] = df['Quantity Ordered'] * df['Price Each']\n",
    "df"
   ]
  },
  {
   "cell_type": "markdown",
   "metadata": {},
   "source": [
    "## Question 1: What was the best month for sales? How much was earned that month?"
   ]
  },
  {
   "cell_type": "code",
   "execution_count": 25,
   "metadata": {},
   "outputs": [
    {
     "data": {
      "text/plain": [
       "Month\n",
       "Dec    5001912.93\n",
       "Nov    4003568.82\n",
       "May    2948896.17\n",
       "Jun    2726517.08\n",
       "Sep    2721494.12\n",
       "Apr    2709242.23\n",
       "Feb    2226684.34\n",
       "Jul    2110525.65\n",
       "Oct    2041880.38\n",
       "Aug    1891162.37\n",
       "Jan    1801749.66\n",
       "Mar    1785675.31\n",
       "Name: Sales, dtype: float64"
      ]
     },
     "execution_count": 25,
     "metadata": {},
     "output_type": "execute_result"
    }
   ],
   "source": [
    "df.groupby('Month')['Sales'].sum().sort_values(ascending=False)"
   ]
  },
  {
   "cell_type": "markdown",
   "metadata": {},
   "source": [
    "## Convert Month back to Month Number for Visualization"
   ]
  },
  {
   "cell_type": "code",
   "execution_count": 26,
   "metadata": {},
   "outputs": [],
   "source": [
    "df['Month'] = df['Month'].apply(lambda x: datetime.strptime(x, \"%b\").month)"
   ]
  },
  {
   "cell_type": "markdown",
   "metadata": {},
   "source": [
    "## Visualize Sales by Month"
   ]
  },
  {
   "cell_type": "code",
   "execution_count": 27,
   "metadata": {},
   "outputs": [
    {
     "data": {
      "image/png": "[encoded data removed]",
      "text/plain": [
       "<Figure size 432x288 with 1 Axes>"
      ]
     },
     "metadata": {
      "needs_background": "light"
     },
     "output_type": "display_data"
    }
   ],
   "source": [
    "results = df.groupby('Month')['Sales'].sum()\n",
    "numbers = np.arange(1,13)\n",
    "months = list(map(lambda x: calendar.month_abbr[x], numbers))\n",
    "\n",
    "fig, ax = plt.subplots()\n",
    "ax.bar(numbers, results)\n",
    "ax.ticklabel_format(style='plain')\n",
    "plt.xticks(numbers, months, rotation='vertical')\n",
    "plt.xlabel('Month Numbers')\n",
    "plt.ylabel('Sales in USD($)')\n",
    "plt.show()"
   ]
  },
  {
   "cell_type": "markdown",
   "metadata": {},
   "source": [
    "## Add a city column by getting the city name from purchase address"
   ]
  },
  {
   "cell_type": "code",
   "execution_count": 28,
   "metadata": {},
   "outputs": [
    {
     "data": {
      "text/html": [
       "<div>\n",
       "<style scoped>\n",
       "    .dataframe tbody tr th:only-of-type {\n",
       "        vertical-align: middle;\n",
       "    }\n",
       "\n",
       "    .dataframe tbody tr th {\n",
       "        vertical-align: top;\n",
       "    }\n",
       "\n",
       "    .dataframe thead th {\n",
       "        text-align: right;\n",
       "    }\n",
       "</style>\n",
       "<table border=\"1\" class=\"dataframe\">\n",
       "  <thead>\n",
       "    <tr style=\"text-align: right;\">\n",
       "      <th></th>\n",
       "      <th>Order ID</th>\n",
       "      <th>Product</th>\n",
       "      <th>Quantity Ordered</th>\n",
       "      <th>Price Each</th>\n",
       "      <th>Order Date</th>\n",
       "      <th>Purchase Address</th>\n",
       "      <th>Month</th>\n",
       "      <th>Sales</th>\n",
       "      <th>City</th>\n",
       "    </tr>\n",
       "  </thead>\n",
       "  <tbody>\n",
       "    <tr>\n",
       "      <th>0</th>\n",
       "      <td>141234</td>\n",
       "      <td>Lightning Charging Cable</td>\n",
       "      <td>1</td>\n",
       "      <td>14.95</td>\n",
       "      <td>01/19/19 10:13</td>\n",
       "      <td>231 6th St, Atlanta, GA 30301</td>\n",
       "      <td>1</td>\n",
       "      <td>14.95</td>\n",
       "      <td>Atlanta (GA)</td>\n",
       "    </tr>\n",
       "    <tr>\n",
       "      <th>1</th>\n",
       "      <td>141235</td>\n",
       "      <td>USB-C Charging Cable</td>\n",
       "      <td>1</td>\n",
       "      <td>11.95</td>\n",
       "      <td>01/15/19 14:10</td>\n",
       "      <td>148 Meadow St, Boston, MA 02215</td>\n",
       "      <td>1</td>\n",
       "      <td>11.95</td>\n",
       "      <td>Boston (MA)</td>\n",
       "    </tr>\n",
       "    <tr>\n",
       "      <th>2</th>\n",
       "      <td>141236</td>\n",
       "      <td>Lightning Charging Cable</td>\n",
       "      <td>1</td>\n",
       "      <td>14.95</td>\n",
       "      <td>01/20/19 11:21</td>\n",
       "      <td>850 Walnut St, San Francisco, CA 94016</td>\n",
       "      <td>1</td>\n",
       "      <td>14.95</td>\n",
       "      <td>San Francisco (CA)</td>\n",
       "    </tr>\n",
       "    <tr>\n",
       "      <th>3</th>\n",
       "      <td>141237</td>\n",
       "      <td>USB-C Charging Cable</td>\n",
       "      <td>2</td>\n",
       "      <td>11.95</td>\n",
       "      <td>01/15/19 00:11</td>\n",
       "      <td>479 11th St, San Francisco, CA 94016</td>\n",
       "      <td>1</td>\n",
       "      <td>23.90</td>\n",
       "      <td>San Francisco (CA)</td>\n",
       "    </tr>\n",
       "    <tr>\n",
       "      <th>4</th>\n",
       "      <td>141238</td>\n",
       "      <td>Lightning Charging Cable</td>\n",
       "      <td>1</td>\n",
       "      <td>14.95</td>\n",
       "      <td>01/06/19 10:05</td>\n",
       "      <td>654 5th St, Dallas, TX 75001</td>\n",
       "      <td>1</td>\n",
       "      <td>14.95</td>\n",
       "      <td>Dallas (TX)</td>\n",
       "    </tr>\n",
       "    <tr>\n",
       "      <th>...</th>\n",
       "      <td>...</td>\n",
       "      <td>...</td>\n",
       "      <td>...</td>\n",
       "      <td>...</td>\n",
       "      <td>...</td>\n",
       "      <td>...</td>\n",
       "      <td>...</td>\n",
       "      <td>...</td>\n",
       "      <td>...</td>\n",
       "    </tr>\n",
       "    <tr>\n",
       "      <th>172867</th>\n",
       "      <td>311569</td>\n",
       "      <td>Bose SoundSport Headphones</td>\n",
       "      <td>1</td>\n",
       "      <td>99.99</td>\n",
       "      <td>12/19/19 19:57</td>\n",
       "      <td>411 12th St, Portland, OR 97035</td>\n",
       "      <td>12</td>\n",
       "      <td>99.99</td>\n",
       "      <td>Portland (OR)</td>\n",
       "    </tr>\n",
       "    <tr>\n",
       "      <th>172868</th>\n",
       "      <td>311570</td>\n",
       "      <td>AA Batteries (4-pack)</td>\n",
       "      <td>1</td>\n",
       "      <td>3.84</td>\n",
       "      <td>12/21/19 10:43</td>\n",
       "      <td>598 14th St, San Francisco, CA 94016</td>\n",
       "      <td>12</td>\n",
       "      <td>3.84</td>\n",
       "      <td>San Francisco (CA)</td>\n",
       "    </tr>\n",
       "    <tr>\n",
       "      <th>172869</th>\n",
       "      <td>311571</td>\n",
       "      <td>Bose SoundSport Headphones</td>\n",
       "      <td>1</td>\n",
       "      <td>99.99</td>\n",
       "      <td>12/31/19 18:20</td>\n",
       "      <td>974 Church St, Portland, OR 97035</td>\n",
       "      <td>12</td>\n",
       "      <td>99.99</td>\n",
       "      <td>Portland (OR)</td>\n",
       "    </tr>\n",
       "    <tr>\n",
       "      <th>172870</th>\n",
       "      <td>311572</td>\n",
       "      <td>Lightning Charging Cable</td>\n",
       "      <td>1</td>\n",
       "      <td>14.95</td>\n",
       "      <td>12/30/19 06:57</td>\n",
       "      <td>326 2nd St, Portland, ME 04101</td>\n",
       "      <td>12</td>\n",
       "      <td>14.95</td>\n",
       "      <td>Portland (ME)</td>\n",
       "    </tr>\n",
       "    <tr>\n",
       "      <th>172871</th>\n",
       "      <td>311573</td>\n",
       "      <td>Wired Headphones</td>\n",
       "      <td>1</td>\n",
       "      <td>11.99</td>\n",
       "      <td>12/09/19 21:58</td>\n",
       "      <td>643 2nd St, New York City, NY 10001</td>\n",
       "      <td>12</td>\n",
       "      <td>11.99</td>\n",
       "      <td>New York City (NY)</td>\n",
       "    </tr>\n",
       "  </tbody>\n",
       "</table>\n",
       "<p>172872 rows × 9 columns</p>\n",
       "</div>"
      ],
      "text/plain": [
       "        Order ID                     Product  Quantity Ordered  Price Each  \\\n",
       "0         141234    Lightning Charging Cable                 1       14.95   \n",
       "1         141235        USB-C Charging Cable                 1       11.95   \n",
       "2         141236    Lightning Charging Cable                 1       14.95   \n",
       "3         141237        USB-C Charging Cable                 2       11.95   \n",
       "4         141238    Lightning Charging Cable                 1       14.95   \n",
       "...          ...                         ...               ...         ...   \n",
       "172867    311569  Bose SoundSport Headphones                 1       99.99   \n",
       "172868    311570       AA Batteries (4-pack)                 1        3.84   \n",
       "172869    311571  Bose SoundSport Headphones                 1       99.99   \n",
       "172870    311572    Lightning Charging Cable                 1       14.95   \n",
       "172871    311573            Wired Headphones                 1       11.99   \n",
       "\n",
       "            Order Date                        Purchase Address  Month  Sales  \\\n",
       "0       01/19/19 10:13           231 6th St, Atlanta, GA 30301      1  14.95   \n",
       "1       01/15/19 14:10         148 Meadow St, Boston, MA 02215      1  11.95   \n",
       "2       01/20/19 11:21  850 Walnut St, San Francisco, CA 94016      1  14.95   \n",
       "3       01/15/19 00:11    479 11th St, San Francisco, CA 94016      1  23.90   \n",
       "4       01/06/19 10:05            654 5th St, Dallas, TX 75001      1  14.95   \n",
       "...                ...                                     ...    ...    ...   \n",
       "172867  12/19/19 19:57         411 12th St, Portland, OR 97035     12  99.99   \n",
       "172868  12/21/19 10:43    598 14th St, San Francisco, CA 94016     12   3.84   \n",
       "172869  12/31/19 18:20       974 Church St, Portland, OR 97035     12  99.99   \n",
       "172870  12/30/19 06:57          326 2nd St, Portland, ME 04101     12  14.95   \n",
       "172871  12/09/19 21:58     643 2nd St, New York City, NY 10001     12  11.99   \n",
       "\n",
       "                       City  \n",
       "0              Atlanta (GA)  \n",
       "1               Boston (MA)  \n",
       "2        San Francisco (CA)  \n",
       "3        San Francisco (CA)  \n",
       "4               Dallas (TX)  \n",
       "...                     ...  \n",
       "172867        Portland (OR)  \n",
       "172868   San Francisco (CA)  \n",
       "172869        Portland (OR)  \n",
       "172870        Portland (ME)  \n",
       "172871   New York City (NY)  \n",
       "\n",
       "[172872 rows x 9 columns]"
      ]
     },
     "execution_count": 28,
     "metadata": {},
     "output_type": "execute_result"
    }
   ],
   "source": [
    "df['City'] = df['Purchase Address'].apply(lambda x: f\"{x.split(',')[1]} ({x.split(',')[2].split(' ')[1]})\")\n",
    "df"
   ]
  },
  {
   "cell_type": "markdown",
   "metadata": {},
   "source": [
    "## Rearrange columns"
   ]
  },
  {
   "cell_type": "code",
   "execution_count": 29,
   "metadata": {},
   "outputs": [],
   "source": [
    "df = df.reindex(['Order ID', 'Product', 'Quantity Ordered', 'Price Each', 'Order Date', 'Month', 'Purchase Address', 'City', 'Sales'], axis=1)"
   ]
  },
  {
   "cell_type": "markdown",
   "metadata": {},
   "source": [
    "## What city had the highest number of sales"
   ]
  },
  {
   "cell_type": "code",
   "execution_count": 30,
   "metadata": {},
   "outputs": [
    {
     "data": {
      "text/plain": [
       "City\n",
       " Atlanta (GA)          2606037.74\n",
       " Austin (TX)           1780002.98\n",
       " Boston (MA)           3388519.28\n",
       " Dallas (TX)           2507597.55\n",
       " Los Angeles (CA)      5111159.52\n",
       " New York City (NY)    4348068.27\n",
       " Portland (ME)          421155.79\n",
       " Portland (OR)         1709189.06\n",
       " San Francisco (CA)    7634426.16\n",
       " Seattle (WA)          2463152.71\n",
       "Name: Sales, dtype: float64"
      ]
     },
     "execution_count": 30,
     "metadata": {},
     "output_type": "execute_result"
    }
   ],
   "source": [
    "df.groupby('City')['Sales'].sum()"
   ]
  },
  {
   "cell_type": "markdown",
   "metadata": {},
   "source": [
    "## Visualize Sales by City"
   ]
  },
  {
   "cell_type": "code",
   "execution_count": 31,
   "metadata": {},
   "outputs": [
    {
     "data": {
      "text/plain": [
       "Text(0, 0.5, 'Sales in USD($)')"
      ]
     },
     "execution_count": 31,
     "metadata": {},
     "output_type": "execute_result"
    },
    {
     "data": {
      "image/png": "[encoded data removed]",
      "text/plain": [
       "<Figure size 432x288 with 1 Axes>"
      ]
     },
     "metadata": {
      "needs_background": "light"
     },
     "output_type": "display_data"
    }
   ],
   "source": [
    "results = df.groupby('City')['Sales'].sum()\n",
    "cities = [city for city, df in df.groupby('City')]\n",
    "\n",
    "plt.bar(cities, results)\n",
    "plt.xticks(cities, rotation='vertical')\n",
    "plt.xlabel('City Indices')\n",
    "plt.ylabel('Sales in USD($)')\n",
    "\n",
    "# plt.figure(figsize=(8, 5))\n",
    "# ax = sns.pointplot(x='City', y='Sales', data=df, palette='rainbow')\n",
    "# ax.set_xticklabels(ax.get_xticklabels(), rotation=90)"
   ]
  },
  {
   "cell_type": "markdown",
   "metadata": {},
   "source": [
    "## What time should we display advertisements to maximise likelihood of customer's buying a product?"
   ]
  },
  {
   "cell_type": "code",
   "execution_count": 32,
   "metadata": {},
   "outputs": [
    {
     "name": "stdout",
     "output_type": "stream",
     "text": [
      "11914\n",
      "724\n"
     ]
    },
    {
     "data": {
      "image/png": "[encoded data removed]",
      "text/plain": [
       "<Figure size 432x288 with 1 Axes>"
      ]
     },
     "metadata": {
      "needs_background": "light"
     },
     "output_type": "display_data"
    }
   ],
   "source": [
    "df['Order Date'] = pd.to_datetime(df['Order Date'])\n",
    "\n",
    "df['Hours'] = df['Order Date'].dt.hour\n",
    "df['Minutes'] = df['Order Date'].dt.minute\n",
    "\n",
    "# Maximum rows_count grouped by hours\n",
    "max_row_count = df.groupby('Hours')['Hours'].count().max()\n",
    "print(max_row_count)\n",
    "\n",
    "# Minimum rows count grouped by hours\n",
    "min_row_count = df.groupby('Hours')['Hours'].count().min()\n",
    "print(min_row_count)\n",
    "\n",
    "results = df.groupby('Hours').count()\n",
    "hours = [hour for hour, df in df.groupby('Hours')]\n",
    "xlines = np.arange(0, 24)\n",
    "plt.plot(hours, results)\n",
    "plt.xticks(hours)\n",
    "plt.xlabel('Hours')\n",
    "plt.ylabel('Count')\n",
    "plt.vlines(xlines, 0, 12000, linestyles='solid', colors='red') # or just use plt.grid()\n",
    "plt.show()\n",
    "\n",
    "# 21PM-10AM is the least used hour by customer to place orders\n",
    "# 11AM-12PM or 6PM-7PM is the most used hour by customers to place orders. So that's best time to display advertisements\n"
   ]
  },
  {
   "cell_type": "markdown",
   "metadata": {},
   "source": [
    "## Which products were sold together the most?"
   ]
  },
  {
   "cell_type": "code",
   "execution_count": 33,
   "metadata": {},
   "outputs": [
    {
     "name": "stderr",
     "output_type": "stream",
     "text": [
      "C:\\Users\\WebMagic\\AppData\\Local\\Temp\\ipykernel_3052\\2679541713.py:5: SettingWithCopyWarning: \n",
      "A value is trying to be set on a copy of a slice from a DataFrame.\n",
      "Try using .loc[row_indexer,col_indexer] = value instead\n",
      "\n",
      "See the caveats in the documentation: https://pandas.pydata.org/pandas-docs/stable/user_guide/indexing.html#returning-a-view-versus-a-copy\n",
      "  new_df['Grouped Products'] = new_df.groupby('Order ID')['Product'].transform(lambda x: ','.join(x))\n"
     ]
    },
    {
     "data": {
      "text/plain": [
       "[(('iPhone', 'Lightning Charging Cable'), 1011),\n",
       " (('Google Phone', 'USB-C Charging Cable'), 911),\n",
       " (('iPhone', 'Wired Headphones'), 476),\n",
       " (('Google Phone', 'Wired Headphones'), 387),\n",
       " (('Vareebadd Phone', 'USB-C Charging Cable'), 350)]"
      ]
     },
     "execution_count": 33,
     "metadata": {},
     "output_type": "execute_result"
    }
   ],
   "source": [
    "# Retrieve rows with duplicated order id\n",
    "new_df = df[df['Order ID'].duplicated(keep=False)]\n",
    "\n",
    "# Create a new Grouped Data column and store products whose order id is the same by joining them together\n",
    "new_df['Grouped Products'] = new_df.groupby('Order ID')['Product'].transform(lambda x: ','.join(x))\n",
    "# Drop duplicates\n",
    "new_df = new_df[['Order ID', 'Grouped Products']].drop_duplicates()\n",
    "\n",
    "# Count the combinations of row_list having 2 products only\n",
    "from itertools import combinations\n",
    "from collections import Counter\n",
    "\n",
    "count = Counter()\n",
    "\n",
    "for row in new_df['Grouped Products']:\n",
    "    row_list = row.split(',')\n",
    "    count.update(Counter(combinations(row_list, 2)))\n",
    "\n",
    "# Top 5 pair of products sold the most\n",
    "count.most_common(5) "
   ]
  },
  {
   "cell_type": "code",
   "execution_count": 34,
   "metadata": {},
   "outputs": [
    {
     "name": "stderr",
     "output_type": "stream",
     "text": [
      "C:\\Users\\WebMagic\\AppData\\Local\\Temp\\ipykernel_3052\\1955246359.py:12: UserWarning: FixedFormatter should only be used together with FixedLocator\n",
      "  ax1.set_xticklabels(products, rotation='vertical')\n"
     ]
    },
    {
     "data": {
      "image/png": "[encoded data removed]",
      "text/plain": [
       "<Figure size 432x288 with 2 Axes>"
      ]
     },
     "metadata": {
      "needs_background": "light"
     },
     "output_type": "display_data"
    }
   ],
   "source": [
    "quantities = df.groupby('Product')['Quantity Ordered'].sum()\n",
    "products = [product for product, df in df.groupby('Product')]\n",
    "prices = df.groupby('Product')['Price Each'].mean()\n",
    "\n",
    "fig, ax1 = plt.subplots()\n",
    "ax2 = ax1.twinx()\n",
    "ax1.bar(products, quantities)\n",
    "ax2.plot(products, prices, 'r')\n",
    "ax1.set_xlabel('Product Name')\n",
    "ax1.set_ylabel('Quantity Ordered')\n",
    "ax2.set_ylabel('Price ($)')\n",
    "ax1.set_xticklabels(products, rotation='vertical')\n",
    "plt.show()\n",
    "\n",
    "# When the quantity is high, the price is low"
   ]
  },
  {
   "cell_type": "code",
   "execution_count": null,
   "metadata": {},
   "outputs": [],
   "source": []
  }
 ],
 "metadata": {
  "interpreter": {
   "hash": "30184ffd7a4e87ec2e6f679ce4f1a2c3d60dde26b37d657b1495802c63f59cd3"
  },
  "kernelspec": {
   "display_name": "Python 3.10.2 64-bit",
   "language": "python",
   "name": "python3"
  },
  "language_info": {
   "codemirror_mode": {
    "name": "ipython",
    "version": 3
   },
   "file_extension": ".py",
   "mimetype": "text/x-python",
   "name": "python",
   "nbconvert_exporter": "python",
   "pygments_lexer": "ipython3",
   "version": "3.10.2"
  },
  "orig_nbformat": 4
 },
 "nbformat": 4,
 "nbformat_minor": 2
}
